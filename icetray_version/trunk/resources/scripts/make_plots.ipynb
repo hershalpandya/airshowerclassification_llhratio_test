{
 "cells": [
  {
   "cell_type": "code",
   "execution_count": 1,
   "metadata": {},
   "outputs": [],
   "source": [
    "import numpy as np\n",
    "%matplotlib inline\n",
    "from matplotlib import pyplot as plt\n",
    "from matplotlib.colors import LogNorm\n",
    "import sys\n",
    "sys.path.append('../../python/')\n",
    "from general_functions import load_5D_PDF_from_file\n",
    "\n",
    "def plot_2d_hist(hist,xedges,yedges,\n",
    "                xlim,ylim,\n",
    "                xlabel='',ylabel='',title='',cmap='coolwarm',\n",
    "                vmin=1e-1,vmax=1e-5,same_plot=False,alpha=1.0):\n",
    "\n",
    "    hist=hist.T\n",
    "    hist=np.ma.masked_where(hist==0,hist)\n",
    "    #label='nentries: %i'%np.sum(hist)\n",
    "\n",
    "    if not same_plot:\n",
    "        plt.figure()#dpi=320)\n",
    "    plt.pcolormesh(xedges,yedges,hist,alpha=alpha,\n",
    "                   cmap=cmap,norm=LogNorm(vmin=vmin,vmax=vmax))\n",
    "    #cbar=plt.colorbar()\n",
    "    #plt.scatter([2.0],[2],color=None,s=0,label=label)\n",
    "    #plt.legend()\n",
    "    plt.xlim(xlim)\n",
    "    plt.ylim(ylim)\n",
    "    #plt.xlabel(xlabel)\n",
    "    #plt.ylabel(ylabel)\n",
    "    #plt.title(title)\n",
    "    return plt\n",
    "\n"
   ]
  },
  {
   "cell_type": "code",
   "execution_count": 2,
   "metadata": {},
   "outputs": [],
   "source": [
    "sig_pdf_file='PDF_12360_burnsample.hd5'\n",
    "bkg_pdf_file='PDF_12362_burnsample.hd5'\n",
    "load_5D_PDF_from_file(SigPDFFileName=sig_pdf_file, BkgPDFFileName=bkg_pdf_file)"
   ]
  },
  {
   "cell_type": "code",
   "execution_count": 3,
   "metadata": {},
   "outputs": [
    {
     "data": {
      "text/plain": [
       "u'/Users/hershal/Google_Drive/i3data/llhratio_github/airshowerclassification_llhratio_test/icetray_version/trunk/resources/scripts'"
      ]
     },
     "execution_count": 3,
     "metadata": {},
     "output_type": "execute_result"
    }
   ],
   "source": [
    "pwd"
   ]
  },
  {
   "cell_type": "code",
   "execution_count": null,
   "metadata": {},
   "outputs": [],
   "source": []
  }
 ],
 "metadata": {
  "kernelspec": {
   "display_name": "Python 2",
   "language": "python",
   "name": "python2"
  },
  "language_info": {
   "codemirror_mode": {
    "name": "ipython",
    "version": 2
   },
   "file_extension": ".py",
   "mimetype": "text/x-python",
   "name": "python",
   "nbconvert_exporter": "python",
   "pygments_lexer": "ipython2",
   "version": "2.7.15"
  }
 },
 "nbformat": 4,
 "nbformat_minor": 2
}
