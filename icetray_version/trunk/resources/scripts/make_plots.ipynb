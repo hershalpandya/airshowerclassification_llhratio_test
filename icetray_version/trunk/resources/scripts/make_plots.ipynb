{
 "cells": [
  {
   "cell_type": "code",
   "execution_count": 1,
   "metadata": {
    "code_folding": [
     11,
     34,
     89,
     106
    ]
   },
   "outputs": [],
   "source": [
    "import numpy as np\n",
    "%matplotlib inline\n",
    "from matplotlib import pyplot as plt\n",
    "from matplotlib.colors import LogNorm\n",
    "import sys\n",
    "sys.path.append('../../python/')\n",
    "from general_functions import load_5D_PDF_from_file\n",
    "from mpl_toolkits.mplot3d import Axes3D\n",
    "from matplotlib import cm\n",
    "import tables\n",
    "import glob\n",
    "\n",
    "def plot_2d_hist(hist,xedges,yedges,\n",
    "                xlim,ylim,\n",
    "                xlabel='',ylabel='',title='',cmap='coolwarm',\n",
    "                vmin=1e-5,vmax=1e-1,same_plot=False,alpha=1.0):\n",
    "\n",
    "    hist=hist.T\n",
    "    hist=np.ma.masked_where(hist==0,hist)\n",
    "    #label='nentries: %i'%np.sum(hist)\n",
    "\n",
    "    if not same_plot:\n",
    "        plt.figure()#dpi=320)\n",
    "    plt.pcolormesh(xedges,yedges,hist,alpha=alpha,\n",
    "                   cmap=cmap,norm=LogNorm(vmin=vmin,vmax=vmax))\n",
    "    #cbar=plt.colorbar()\n",
    "    #plt.scatter([2.0],[2],color=None,s=0,label=label)\n",
    "    #plt.legend()\n",
    "    plt.xlim(xlim)\n",
    "    plt.ylim(ylim)\n",
    "    #plt.xlabel(xlabel)\n",
    "    #plt.ylabel(ylabel)\n",
    "    #plt.title(title)\n",
    "    return plt\n",
    "\n",
    "def plot_3dhist(bkg_hist,bincenters,azim,elev,outputname,vmin,vmax):\n",
    "    Q,T,R = np.meshgrid(bincenters[1],bincenters[0],bincenters[2])\n",
    "    c= bkg_hist/np.sum(bkg_hist)\n",
    "\n",
    "    Q=Q.T\n",
    "    T=T.T\n",
    "    R=R.T\n",
    "    c=c.T\n",
    "    #print np.shape(Q.T), np.shape(T.T), np.shape(R.T), np.shape(bkg_hist.T)\n",
    "\n",
    "    reshape_ = np.prod(np.shape(Q))\n",
    "    Q = Q.reshape(reshape_)\n",
    "    T = T.reshape(reshape_)\n",
    "    R = R.reshape(reshape_)\n",
    "    c= c.reshape(reshape_)\n",
    "\n",
    "    select=(c!=0)#&(np.random.rand(len(c))>0.5)\n",
    "    Q=Q[select]\n",
    "    T=T[select]\n",
    "    R=R[select]\n",
    "    c=np.log10(c[select])\n",
    "    alpha=np.ones_like(c)\n",
    "    alpha[c<-2]=0.70\n",
    "    alpha[c<-3]=0.60\n",
    "    alpha[c<-4]=0.50\n",
    "    alpha[c<-5]=0.40\n",
    "    alpha[c<-6]=0.30\n",
    "\n",
    "    norm = mpl.colors.Normalize(vmin=vmin, vmax=vmax)\n",
    "    cmap = cm.jet\n",
    "    m = cm.ScalarMappable(norm=norm, cmap=cmap)\n",
    "    c= m.to_rgba(c)\n",
    "    c.T[3]=alpha\n",
    "\n",
    "    fig=plt.figure(figsize=(8,8))\n",
    "    ax = fig.add_subplot(111, projection='3d')\n",
    "    ax.scatter(R,T,Q,zdir='Q',c=c,s=30,edgecolors=c)\n",
    "    ax.azim = azim\n",
    "    ax.elev = elev\n",
    "\n",
    "    ax.set_xlabel('R')\n",
    "    ax.set_ylabel('Q')\n",
    "    ax.set_zlabel('T')\n",
    "    \n",
    "    ax.set_xlim([0,3.5])\n",
    "    ax.set_ylim([-3.2,4])\n",
    "    ax.set_zlim([-5.2,4.2])\n",
    "    #fig.colorbar(myax)\n",
    "    \n",
    "    fig.savefig(outputname,bbox_inches='tight')\n",
    "    \n",
    "    plt.close()\n",
    "    \n",
    "    return\n",
    "\n",
    "def hist_2d_proj(hist3d,axis=0):\n",
    "    if axis==0:\n",
    "        axes=[0,1,2]\n",
    "    if axis==1:\n",
    "        axes=[1,0,2]\n",
    "    if axis==2:\n",
    "        axes=[2,0,1]\n",
    "    \n",
    "    hist3d=np.transpose(hist3d,axes=axes)\n",
    "    \n",
    "    proj_hist=np.zeros_like(hist3d[0])\n",
    "    print np.shape(proj_hist)\n",
    "    for i in range(len(hist3d)):\n",
    "        proj_hist += hist3d[i]\n",
    "    \n",
    "    return proj_hist\n",
    "\n",
    "def hist_1d_proj(hist2d,axis=0):\n",
    "    if axis==0:\n",
    "        axes=[0,1]\n",
    "    if axis==1:\n",
    "        axes=[1,0]\n",
    "        \n",
    "    hist2d=np.transpose(hist2d,axes=axes)\n",
    "    \n",
    "    proj_hist=np.zeros_like(hist2d[0])\n",
    "    print np.shape(proj_hist)\n",
    "    for i in range(len(hist2d)):\n",
    "        proj_hist += hist2d[i]\n",
    "    \n",
    "    return proj_hist\n",
    "\n",
    "def plot_2D_projected_hist(hist3d,edges,axis=0,\n",
    "                           xlabel='',ylabel='',\n",
    "                           event_overlay=False, event=None):\n",
    "    projected_hist = hist_2d_proj(hist3d,axis)\n",
    "    if axis==0:\n",
    "        xedges= edges[1]\n",
    "        yedges= edges[2]\n",
    "    if axis==1:\n",
    "        xedges= edges[0]\n",
    "        yedges= edges[2]\n",
    "    if axis==2:\n",
    "        xedges= edges[0]\n",
    "        yedges= edges[1]\n",
    "        \n",
    "    xlim = [xedges[0]-0.25,xedges[-1]+0.25]\n",
    "    ylim = [yedges[0]-0.25,yedges[-1]+0.25]\n",
    "    \n",
    "    projected_hist /=np.sum(projected_hist)\n",
    "    \n",
    "    projected_hist = projected_hist.T\n",
    "    \n",
    "    plot_2d_hist(projected_hist,yedges,xedges,ylim,xlim,xlabel,ylabel,cmap='jet')\n",
    "    \n",
    "    if event_overlay:\n",
    "        xcenters=(xedges[:-1]+xedges[1:])/2.0\n",
    "        ycenters=(yedges[:-1]+yedges[1:])/2.0\n",
    "\n",
    "        xscatter=[]\n",
    "        yscatter=[]\n",
    "        zscatter=[]\n",
    "        for r,row in enumerate(hist_2d_proj(event,axis)):\n",
    "            for c,element in enumerate(row):\n",
    "                if element!=0:\n",
    "                    xscatter.append(xcenters[r])\n",
    "                    yscatter.append(ycenters[c])\n",
    "                    zscatter.append(element)\n",
    "        xscatter=np.array(xscatter)\n",
    "        yscatter=np.array(yscatter)\n",
    "        zscatter=np.array(zscatter)\n",
    "        \n",
    "        plt.scatter(yscatter,xscatter,marker='s',s=10*zscatter,edgecolor='k',facecolor='r',\n",
    "                    alpha=0.6)\n",
    "    \n",
    "    return"
   ]
  },
  {
   "cell_type": "code",
   "execution_count": 3,
   "metadata": {},
   "outputs": [],
   "source": [
    "sig_pdf_file='../../files/PDF_12360_0123x.hd5'\n",
    "bkg_pdf_file='../../files/PDF_12362_0123x.hd5'\n",
    "temp=load_5D_PDF_from_file(SigPDFFileName=sig_pdf_file, BkgPDFFileName=bkg_pdf_file)\n",
    "sig_hist=temp[0]\n",
    "bkg_hist=temp[1]\n",
    "binedges=temp[2]\n",
    "distinct_regions_binedges=temp[3]\n",
    "labels=temp[4]\n",
    "sig_n_events=temp[5]\n",
    "bkg_n_events = temp[6]"
   ]
  },
  {
   "cell_type": "code",
   "execution_count": 4,
   "metadata": {},
   "outputs": [],
   "source": [
    "# find the logE and coszen bins select those bins in sig/bkg pdfs\n",
    "logEbincenters = np.array((binedges[0][1:] + binedges[0][:-1] )/2.)\n",
    "coszenbincenters = np.array((binedges[1][1:] + binedges[1][:-1] )/2.)\n",
    "\n",
    "logE=-0.01\n",
    "dE = np.absolute(logEbincenters - logE)\n",
    "Ebin=np.where(np.amin(dE)==dE)[0][0]\n",
    "\n",
    "coszen=0.96\n",
    "dcZ = np.absolute(coszenbincenters - coszen)\n",
    "cZbin = np.where(np.amin(dcZ)==dcZ)[0][0]\n",
    "\n",
    "sig_hist_3dslice = sig_hist[Ebin][cZbin]\n",
    "bkg_hist_3dslice = bkg_hist[Ebin][cZbin]\n",
    "\n",
    "binedges_3dslice = binedges[2:]"
   ]
  },
  {
   "cell_type": "code",
   "execution_count": 7,
   "metadata": {},
   "outputs": [
    {
     "name": "stdout",
     "output_type": "stream",
     "text": [
      "(70, 50)\n"
     ]
    },
    {
     "data": {
      "image/png": "[encoded data removed]",
      "text/plain": [
       "<Figure size 432x288 with 1 Axes>"
      ]
     },
     "metadata": {},
     "output_type": "display_data"
    }
   ],
   "source": [
    "plot_2D_projected_hist(sig_hist_3dslice,binedges_3dslice,axis=2)"
   ]
  },
  {
   "cell_type": "code",
   "execution_count": 27,
   "metadata": {},
   "outputs": [],
   "source": [
    "sig_hdf_files=glob.glob('../../files/Events_12360_?x.hd5.hd5')\n",
    "bkg_hdf_files=glob.glob('../../files/Events_12362_?x.hd5.hd5')"
   ]
  },
  {
   "cell_type": "code",
   "execution_count": 30,
   "metadata": {
    "code_folding": []
   },
   "outputs": [],
   "source": [
    "def load_hdf_file(tfiles):\n",
    "    d={}\n",
    "    for tfile in tfiles:\n",
    "        f=tables.open_file(tfile)\n",
    "        for name in f.root.IceTopLLHR.colnames:\n",
    "            if tfile==tfiles[0]:\n",
    "                d[name]= eval('f.root.IceTopLLHR.cols.'+name+'[:]')\n",
    "            else:\n",
    "                d[name]=np.concatenate( (d[name],eval('f.root.IceTopLLHR.cols.'+name+'[:]')) )\n",
    "        if tfile==tfiles[0]:\n",
    "            d['log_s125']=np.log10(f.root.LaputopParams.cols.s125[:])\n",
    "            d['cos_zen']=np.cos(f.root.Laputop.cols.zenith[:])\n",
    "        else:\n",
    "            d['log_s125']=np.concatenate( (d['log_s125'],np.log10(f.root.LaputopParams.cols.s125[:])) )\n",
    "            d['cos_zen']=np.concatenate( (d['cos_zen'], np.cos(f.root.Laputop.cols.zenith[:])) )\n",
    "    return d"
   ]
  },
  {
   "cell_type": "code",
   "execution_count": 31,
   "metadata": {},
   "outputs": [],
   "source": [
    "llhr={}\n",
    "llhr['sig']=load_hdf_file(sig_hdf_files)\n",
    "llhr['bkg']=load_hdf_file(bkg_hdf_files)"
   ]
  },
  {
   "cell_type": "code",
   "execution_count": 45,
   "metadata": {},
   "outputs": [
    {
     "name": "stdout",
     "output_type": "stream",
     "text": [
      "25408\n",
      "208\n",
      "29522\n",
      "176\n"
     ]
    },
    {
     "data": {
      "text/plain": [
       "<matplotlib.legend.Legend at 0x11ac0fed0>"
      ]
     },
     "execution_count": 45,
     "metadata": {},
     "output_type": "execute_result"
    },
    {
     "data": {
      "image/png": "[encoded data removed]",
      "text/plain": [
       "<Figure size 432x288 with 1 Axes>"
      ]
     },
     "metadata": {},
     "output_type": "display_data"
    }
   ],
   "source": [
    "low_E=1.5\n",
    "high_E=1.6\n",
    "low_z=0.8\n",
    "high_z=.85\n",
    "for key in llhr.keys():\n",
    "    cut1=llhr[key]['isGood']==1.0\n",
    "    cut2=llhr[key]['tanks_have_nans']==0.\n",
    "    cut3=llhr[key]['log_s125']>=low_E\n",
    "    cut4=llhr[key]['log_s125']<high_E\n",
    "    cut5=llhr[key]['cos_zen']>=low_z\n",
    "    cut6=llhr[key]['cos_zen']<high_z\n",
    "    select=cut1&cut2&cut3&cut4&cut5&cut6\n",
    "    print len(select)\n",
    "    print len(select[select])\n",
    "    hist_this ='llh_ratio'\n",
    "    range=[-10,15]\n",
    "    bins=35\n",
    "    #hist_this='n_extrapolations_bkg_PDF'\n",
    "    #range=[0,20]\n",
    "    #bins=20\n",
    "    plt.hist(llhr[key][hist_this][select],range=range,bins=bins,label=key,histtype='step')\n",
    "plt.legend()"
   ]
  },
  {
   "cell_type": "code",
   "execution_count": 34,
   "metadata": {},
   "outputs": [
    {
     "data": {
      "text/plain": [
       "['cos_zen',\n",
       " 'n_extrapolations_sig_PDF',\n",
       " 'Run',\n",
       " 'exists',\n",
       " 'isGood',\n",
       " 'n_extrapolations_bkg_PDF',\n",
       " 'llh_bkg',\n",
       " 'llh_ratio',\n",
       " 'log_s125',\n",
       " 'SubEvent',\n",
       " 'SubEventStream',\n",
       " 'llh_sig',\n",
       " 'tanks_have_nans',\n",
       " 'Event']"
      ]
     },
     "execution_count": 34,
     "metadata": {},
     "output_type": "execute_result"
    }
   ],
   "source": [
    "llhr['sig'].keys()"
   ]
  },
  {
   "cell_type": "code",
   "execution_count": 2,
   "metadata": {},
   "outputs": [],
   "source": [
    "def load_results_hist(tfile):\n",
    "    f=tables.open_file(tfile)\n",
    "    labels=f.root.labels[:]\n",
    "    nevents=f.root.n_events[:]\n",
    "    edges0=f.root.binedges_0[:]\n",
    "    edges1=f.root.binedges_1[:]\n",
    "    edges2=f.root.binedges_2[:]\n",
    "    hist=f.root.hist[:]\n",
    "    f.close()\n",
    "    return hist, [edges0,edges1,edges2], nevents,labels"
   ]
  },
  {
   "cell_type": "code",
   "execution_count": 3,
   "metadata": {},
   "outputs": [],
   "source": [
    "sig_hist, edges, sig_nevents, labels = load_results_hist('../../files/results_sig_Ezenllhr.hd5')\n",
    "bkg_hist, edges, bkg_nevents, labels = load_results_hist('../../files/results_bkg_Ezenllhr.hd5')"
   ]
  },
  {
   "cell_type": "code",
   "execution_count": 4,
   "metadata": {},
   "outputs": [
    {
     "name": "stdout",
     "output_type": "stream",
     "text": [
      "(12, 3500)\n",
      "(12, 3500)\n"
     ]
    }
   ],
   "source": [
    "sig_onedhist=hist_2d_proj(sig_hist,axis=1)[3]\n",
    "bkg_onedhist=hist_2d_proj(bkg_hist,axis=1)[3]"
   ]
  },
  {
   "cell_type": "code",
   "execution_count": 5,
   "metadata": {},
   "outputs": [
    {
     "data": {
      "text/plain": [
       "<matplotlib.legend.Legend at 0x110f53f10>"
      ]
     },
     "execution_count": 5,
     "metadata": {},
     "output_type": "execute_result"
    },
    {
     "data": {
      "image/png": "[encoded data removed]",
      "text/plain": [
       "<Figure size 432x288 with 1 Axes>"
      ]
     },
     "metadata": {},
     "output_type": "display_data"
    }
   ],
   "source": [
    "plt.bar(edges[2][:-1],sig_onedhist,alpha=1.,label='rand')\n",
    "plt.bar(edges[2][:-1],bkg_onedhist,alpha=0.3,label='data')\n",
    "plt.yscale('log')\n",
    "#plt.xlim([-1,1])\n",
    "plt.legend()"
   ]
  },
  {
   "cell_type": "code",
   "execution_count": 54,
   "metadata": {},
   "outputs": [
    {
     "data": {
      "text/plain": [
       "array([0. , 0.1, 0.2, 0.3, 0.4, 0.5, 0.6, 0.7, 0.8, 0.9, 1. ])"
      ]
     },
     "execution_count": 54,
     "metadata": {},
     "output_type": "execute_result"
    }
   ],
   "source": []
  },
  {
   "cell_type": "code",
   "execution_count": null,
   "metadata": {},
   "outputs": [],
   "source": []
  }
 ],
 "metadata": {
  "kernelspec": {
   "display_name": "Python 2",
   "language": "python",
   "name": "python2"
  },
  "language_info": {
   "codemirror_mode": {
    "name": "ipython",
    "version": 2
   },
   "file_extension": ".py",
   "mimetype": "text/x-python",
   "name": "python",
   "nbconvert_exporter": "python",
   "pygments_lexer": "ipython2",
   "version": "2.7.15"
  }
 },
 "nbformat": 4,
 "nbformat_minor": 2
}
